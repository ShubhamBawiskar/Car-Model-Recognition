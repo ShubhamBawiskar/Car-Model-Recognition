{
 "cells": [
  {
   "cell_type": "code",
   "execution_count": 1,
   "id": "cad861cf-59ff-4249-b706-e8fa7935deba",
   "metadata": {},
   "outputs": [],
   "source": [
    "import os\n",
    "os.environ['KMP_DUPLICATE_LIB_OK']='True'"
   ]
  },
  {
   "cell_type": "code",
   "execution_count": 2,
   "id": "95cf3e65-ffdb-4a5a-be9e-d1d178d9e17d",
   "metadata": {},
   "outputs": [
    {
     "name": "stdout",
     "output_type": "stream",
     "text": [
      "Ultralytics YOLOv8.2.35  Python-3.9.18 torch-2.0.1+cu117 CUDA:0 (NVIDIA GeForce RTX 3050 Laptop GPU, 4096MiB)\n",
      "Setup complete  (16 CPUs, 23.7 GB RAM, 18.3/400.0 GB disk)\n"
     ]
    }
   ],
   "source": [
    "import ultralytics\n",
    "from ultralytics import YOLO\n",
    "ultralytics.checks()"
   ]
  },
  {
   "cell_type": "code",
   "execution_count": 3,
   "id": "4099ebcd-6223-4b57-a2b8-80cbaa465b20",
   "metadata": {},
   "outputs": [
    {
     "name": "stdout",
     "output_type": "stream",
     "text": [
      "Using device: cuda\n"
     ]
    }
   ],
   "source": [
    "import torch\n",
    "device = torch.device(\"cuda\" if torch.cuda.is_available() else \"cpu\")\n",
    "print(f\"Using device: {device}\")"
   ]
  },
  {
   "cell_type": "code",
   "execution_count": 4,
   "id": "6a666f82-fe2b-4799-bc15-8d12eea26f75",
   "metadata": {},
   "outputs": [],
   "source": [
    "# # Load a pretrained YOLO model (recommended for training)\n",
    "# model = YOLO(\"yolov8n.pt\")\n",
    "\n",
    "# # Train the model\n",
    "# results = model.train(data=r\"D:\\Augmented_Data\\Merged_Data.yaml\", epochs=20)"
   ]
  },
  {
   "cell_type": "code",
   "execution_count": 5,
   "id": "51e01456",
   "metadata": {},
   "outputs": [
    {
     "name": "stdout",
     "output_type": "stream",
     "text": [
      "New https://pypi.org/project/ultralytics/8.2.66 available  Update with 'pip install -U ultralytics'\n",
      "Ultralytics YOLOv8.2.35  Python-3.9.18 torch-2.0.1+cu117 CUDA:0 (NVIDIA GeForce RTX 3050 Laptop GPU, 4096MiB)\n",
      "\u001b[34m\u001b[1mengine\\trainer: \u001b[0mtask=detect, mode=train, model=D:\\Augmented_Data\\runs\\detect\\train\\weights\\last.pt, data=D:\\Augmented_Data\\Merged_Data.yaml, epochs=20, time=None, patience=100, batch=16, imgsz=640, save=True, save_period=-1, cache=False, device=None, workers=8, project=None, name=train, exist_ok=False, pretrained=True, optimizer=auto, verbose=True, seed=0, deterministic=True, single_cls=False, rect=False, cos_lr=False, close_mosaic=10, resume=D:\\Augmented_Data\\runs\\detect\\train\\weights\\last.pt, amp=True, fraction=1.0, profile=False, freeze=None, multi_scale=False, overlap_mask=True, mask_ratio=4, dropout=0.0, val=True, split=val, save_json=False, save_hybrid=False, conf=None, iou=0.7, max_det=300, half=False, dnn=False, plots=True, source=None, vid_stride=1, stream_buffer=False, visualize=False, augment=False, agnostic_nms=False, classes=None, retina_masks=False, embed=None, show=False, save_frames=False, save_txt=False, save_conf=False, save_crop=False, show_labels=True, show_conf=True, show_boxes=True, line_width=None, format=torchscript, keras=False, optimize=False, int8=False, dynamic=False, simplify=False, opset=None, workspace=4, nms=False, lr0=0.01, lrf=0.01, momentum=0.937, weight_decay=0.0005, warmup_epochs=3.0, warmup_momentum=0.8, warmup_bias_lr=0.0, box=7.5, cls=0.5, dfl=1.5, pose=12.0, kobj=1.0, label_smoothing=0.0, nbs=64, hsv_h=0.015, hsv_s=0.7, hsv_v=0.4, degrees=0.0, translate=0.1, scale=0.5, shear=0.0, perspective=0.0, flipud=0.0, fliplr=0.5, bgr=0.0, mosaic=1.0, mixup=0.0, copy_paste=0.0, auto_augment=randaugment, erasing=0.4, crop_fraction=1.0, cfg=None, tracker=botsort.yaml, save_dir=runs\\detect\\train\n",
      "\n",
      "                   from  n    params  module                                       arguments                     \n",
      "  0                  -1  1       464  ultralytics.nn.modules.conv.Conv             [3, 16, 3, 2]                 \n",
      "  1                  -1  1      4672  ultralytics.nn.modules.conv.Conv             [16, 32, 3, 2]                \n",
      "  2                  -1  1      7360  ultralytics.nn.modules.block.C2f             [32, 32, 1, True]             \n",
      "  3                  -1  1     18560  ultralytics.nn.modules.conv.Conv             [32, 64, 3, 2]                \n",
      "  4                  -1  2     49664  ultralytics.nn.modules.block.C2f             [64, 64, 2, True]             \n",
      "  5                  -1  1     73984  ultralytics.nn.modules.conv.Conv             [64, 128, 3, 2]               \n",
      "  6                  -1  2    197632  ultralytics.nn.modules.block.C2f             [128, 128, 2, True]           \n",
      "  7                  -1  1    295424  ultralytics.nn.modules.conv.Conv             [128, 256, 3, 2]              \n",
      "  8                  -1  1    460288  ultralytics.nn.modules.block.C2f             [256, 256, 1, True]           \n",
      "  9                  -1  1    164608  ultralytics.nn.modules.block.SPPF            [256, 256, 5]                 \n",
      " 10                  -1  1         0  torch.nn.modules.upsampling.Upsample         [None, 2, 'nearest']          \n",
      " 11             [-1, 6]  1         0  ultralytics.nn.modules.conv.Concat           [1]                           \n",
      " 12                  -1  1    148224  ultralytics.nn.modules.block.C2f             [384, 128, 1]                 \n",
      " 13                  -1  1         0  torch.nn.modules.upsampling.Upsample         [None, 2, 'nearest']          \n",
      " 14             [-1, 4]  1         0  ultralytics.nn.modules.conv.Concat           [1]                           \n",
      " 15                  -1  1     37248  ultralytics.nn.modules.block.C2f             [192, 64, 1]                  \n",
      " 16                  -1  1     36992  ultralytics.nn.modules.conv.Conv             [64, 64, 3, 2]                \n",
      " 17            [-1, 12]  1         0  ultralytics.nn.modules.conv.Concat           [1]                           \n",
      " 18                  -1  1    123648  ultralytics.nn.modules.block.C2f             [192, 128, 1]                 \n",
      " 19                  -1  1    147712  ultralytics.nn.modules.conv.Conv             [128, 128, 3, 2]              \n",
      " 20             [-1, 9]  1         0  ultralytics.nn.modules.conv.Concat           [1]                           \n",
      " 21                  -1  1    493056  ultralytics.nn.modules.block.C2f             [384, 256, 1]                 \n",
      " 22        [15, 18, 21]  1   1135993  ultralytics.nn.modules.head.Detect           [263, [64, 128, 256]]         \n",
      "Model summary: 225 layers, 3395529 parameters, 3395513 gradients, 10.0 GFLOPs\n",
      "\n",
      "Transferred 355/355 items from pretrained weights\n",
      "Freezing layer 'model.22.dfl.conv.weight'\n",
      "\u001b[34m\u001b[1mAMP: \u001b[0mrunning Automatic Mixed Precision (AMP) checks with YOLOv8n...\n",
      "\u001b[34m\u001b[1mAMP: \u001b[0mchecks passed \n"
     ]
    },
    {
     "name": "stderr",
     "output_type": "stream",
     "text": [
      "\u001b[34m\u001b[1mtrain: \u001b[0mScanning D:\\Augmented_Data\\train\\labels... 76318 images, 128 backgrounds, 0 corrupt: 100%|██████████| 76318/76318 [02:13<00:00, 573.49it/s]"
     ]
    },
    {
     "name": "stdout",
     "output_type": "stream",
     "text": [
      "\u001b[34m\u001b[1mtrain: \u001b[0mWARNING  D:\\Augmented_Data\\train\\images\\Alto19_15_jpg.rf.8ed7c69a853c1c338cb3c57b968658d2.jpg: 1 duplicate labels removed\n",
      "\u001b[34m\u001b[1mtrain: \u001b[0mWARNING  D:\\Augmented_Data\\train\\images\\Alto19_15_jpg.rf.ba636b24ae7b36817e4c5d29b1f4f6e2.jpg: 1 duplicate labels removed\n",
      "\u001b[34m\u001b[1mtrain: \u001b[0mWARNING  D:\\Augmented_Data\\train\\images\\Alto19_15_jpg.rf.dfe55e483f3a498d866a672ddeaef07f.jpg: 1 duplicate labels removed\n"
     ]
    },
    {
     "name": "stderr",
     "output_type": "stream",
     "text": [
      "\n"
     ]
    },
    {
     "name": "stdout",
     "output_type": "stream",
     "text": [
      "\u001b[34m\u001b[1mtrain: \u001b[0mNew cache created: D:\\Augmented_Data\\train\\labels.cache\n"
     ]
    },
    {
     "name": "stderr",
     "output_type": "stream",
     "text": [
      "\u001b[34m\u001b[1mval: \u001b[0mScanning D:\\Augmented_Data\\valid\\labels... 4621 images, 7 backgrounds, 0 corrupt: 100%|██████████| 4621/4621 [00:07<00:00, 578.23it/s]\n"
     ]
    },
    {
     "name": "stdout",
     "output_type": "stream",
     "text": [
      "\u001b[34m\u001b[1mval: \u001b[0mNew cache created: D:\\Augmented_Data\\valid\\labels.cache\n",
      "Plotting labels to runs\\detect\\train\\labels.jpg... \n",
      "\u001b[34m\u001b[1moptimizer:\u001b[0m 'optimizer=auto' found, ignoring 'lr0=0.01' and 'momentum=0.937' and determining best 'optimizer', 'lr0' and 'momentum' automatically... \n",
      "\u001b[34m\u001b[1moptimizer:\u001b[0m SGD(lr=0.01, momentum=0.9) with parameter groups 57 weight(decay=0.0), 64 weight(decay=0.0005), 63 bias(decay=0.0)\n",
      "Resuming training D:\\Augmented_Data\\runs\\detect\\train\\weights\\last.pt from epoch 3 to 20 total epochs\n",
      "Image sizes 640 train, 640 val\n",
      "Using 8 dataloader workers\n",
      "Logging results to \u001b[1mruns\\detect\\train\u001b[0m\n",
      "Starting training for 20 epochs...\n",
      "\n",
      "      Epoch    GPU_mem   box_loss   cls_loss   dfl_loss  Instances       Size\n"
     ]
    },
    {
     "name": "stderr",
     "output_type": "stream",
     "text": [
      "       3/20       3.5G     0.3982      3.188     0.9877         40        640: 100%|██████████| 4770/4770 [26:07<00:00,  3.04it/s]\n",
      "                 Class     Images  Instances      Box(P          R      mAP50  mAP50-95): 100%|██████████| 145/145 [04:32<00:00,  1.88s/it]\n"
     ]
    },
    {
     "name": "stdout",
     "output_type": "stream",
     "text": [
      "                   all       4621       4645      0.375      0.269      0.169      0.165\n",
      "\n",
      "      Epoch    GPU_mem   box_loss   cls_loss   dfl_loss  Instances       Size\n"
     ]
    },
    {
     "name": "stderr",
     "output_type": "stream",
     "text": [
      "       4/20      3.52G     0.3819      2.856     0.9809         36        640: 100%|██████████| 4770/4770 [26:45<00:00,  2.97it/s]\n",
      "                 Class     Images  Instances      Box(P          R      mAP50  mAP50-95): 100%|██████████| 145/145 [06:03<00:00,  2.51s/it]\n"
     ]
    },
    {
     "name": "stdout",
     "output_type": "stream",
     "text": [
      "                   all       4621       4645      0.349      0.397      0.299      0.294\n",
      "\n",
      "      Epoch    GPU_mem   box_loss   cls_loss   dfl_loss  Instances       Size\n"
     ]
    },
    {
     "name": "stderr",
     "output_type": "stream",
     "text": [
      "       5/20      3.51G     0.3483      2.619     0.9657         33        640: 100%|██████████| 4770/4770 [25:13<00:00,  3.15it/s]\n",
      "                 Class     Images  Instances      Box(P          R      mAP50  mAP50-95): 100%|██████████| 145/145 [06:10<00:00,  2.55s/it]\n"
     ]
    },
    {
     "name": "stdout",
     "output_type": "stream",
     "text": [
      "                   all       4621       4645      0.401       0.46      0.403      0.397\n",
      "\n",
      "      Epoch    GPU_mem   box_loss   cls_loss   dfl_loss  Instances       Size\n"
     ]
    },
    {
     "name": "stderr",
     "output_type": "stream",
     "text": [
      "       6/20      3.51G     0.3283       2.45     0.9558         40        640: 100%|██████████| 4770/4770 [25:07<00:00,  3.16it/s]\n",
      "                 Class     Images  Instances      Box(P          R      mAP50  mAP50-95): 100%|██████████| 145/145 [05:53<00:00,  2.44s/it]\n"
     ]
    },
    {
     "name": "stdout",
     "output_type": "stream",
     "text": [
      "                   all       4621       4645      0.447      0.517      0.501      0.494\n",
      "\n",
      "      Epoch    GPU_mem   box_loss   cls_loss   dfl_loss  Instances       Size\n"
     ]
    },
    {
     "name": "stderr",
     "output_type": "stream",
     "text": [
      "       7/20      3.51G     0.3171      2.301     0.9499         38        640: 100%|██████████| 4770/4770 [24:45<00:00,  3.21it/s]\n",
      "                 Class     Images  Instances      Box(P          R      mAP50  mAP50-95): 100%|██████████| 145/145 [06:13<00:00,  2.58s/it]\n"
     ]
    },
    {
     "name": "stdout",
     "output_type": "stream",
     "text": [
      "                   all       4621       4645      0.567      0.558        0.6      0.592\n",
      "\n",
      "      Epoch    GPU_mem   box_loss   cls_loss   dfl_loss  Instances       Size\n"
     ]
    },
    {
     "name": "stderr",
     "output_type": "stream",
     "text": [
      "       8/20      3.51G     0.3084      2.182     0.9457         26        640: 100%|██████████| 4770/4770 [24:53<00:00,  3.19it/s]\n",
      "                 Class     Images  Instances      Box(P          R      mAP50  mAP50-95): 100%|██████████| 145/145 [06:07<00:00,  2.53s/it]\n"
     ]
    },
    {
     "name": "stdout",
     "output_type": "stream",
     "text": [
      "                   all       4621       4645      0.603      0.619      0.662      0.655\n",
      "\n",
      "      Epoch    GPU_mem   box_loss   cls_loss   dfl_loss  Instances       Size\n"
     ]
    },
    {
     "name": "stderr",
     "output_type": "stream",
     "text": [
      "       9/20      3.51G     0.3013      2.065     0.9422         38        640: 100%|██████████| 4770/4770 [25:02<00:00,  3.18it/s]\n",
      "                 Class     Images  Instances      Box(P          R      mAP50  mAP50-95): 100%|██████████| 145/145 [05:50<00:00,  2.42s/it]\n"
     ]
    },
    {
     "name": "stdout",
     "output_type": "stream",
     "text": [
      "                   all       4621       4645      0.645      0.666      0.717      0.709\n",
      "\n",
      "      Epoch    GPU_mem   box_loss   cls_loss   dfl_loss  Instances       Size\n"
     ]
    },
    {
     "name": "stderr",
     "output_type": "stream",
     "text": [
      "      10/20      3.51G     0.2949       1.97     0.9391         35        640: 100%|██████████| 4770/4770 [24:57<00:00,  3.19it/s]\n",
      "                 Class     Images  Instances      Box(P          R      mAP50  mAP50-95): 100%|██████████| 145/145 [05:51<00:00,  2.42s/it]\n"
     ]
    },
    {
     "name": "stdout",
     "output_type": "stream",
     "text": [
      "                   all       4621       4645      0.681      0.691      0.755      0.746\n",
      "Closing dataloader mosaic\n",
      "\n",
      "      Epoch    GPU_mem   box_loss   cls_loss   dfl_loss  Instances       Size\n"
     ]
    },
    {
     "name": "stderr",
     "output_type": "stream",
     "text": [
      "      11/20      3.51G     0.1889      1.217     0.9044         14        640: 100%|██████████| 4770/4770 [24:38<00:00,  3.23it/s]\n",
      "                 Class     Images  Instances      Box(P          R      mAP50  mAP50-95): 100%|██████████| 145/145 [05:59<00:00,  2.48s/it]\n"
     ]
    },
    {
     "name": "stdout",
     "output_type": "stream",
     "text": [
      "                   all       4621       4645      0.688      0.738      0.788       0.78\n",
      "\n",
      "      Epoch    GPU_mem   box_loss   cls_loss   dfl_loss  Instances       Size\n"
     ]
    },
    {
     "name": "stderr",
     "output_type": "stream",
     "text": [
      "      12/20      3.51G     0.1785      1.052     0.8951         14        640: 100%|██████████| 4770/4770 [25:25<00:00,  3.13it/s]\n",
      "                 Class     Images  Instances      Box(P          R      mAP50  mAP50-95): 100%|██████████| 145/145 [06:33<00:00,  2.72s/it]\n"
     ]
    },
    {
     "name": "stdout",
     "output_type": "stream",
     "text": [
      "                   all       4621       4645      0.744      0.735      0.811      0.804\n",
      "\n",
      "      Epoch    GPU_mem   box_loss   cls_loss   dfl_loss  Instances       Size\n"
     ]
    },
    {
     "name": "stderr",
     "output_type": "stream",
     "text": [
      "      13/20      3.51G     0.1723     0.9335     0.8911         14        640: 100%|██████████| 4770/4770 [28:04<00:00,  2.83it/s]\n",
      "                 Class     Images  Instances      Box(P          R      mAP50  mAP50-95): 100%|██████████| 145/145 [06:50<00:00,  2.83s/it]\n"
     ]
    },
    {
     "name": "stdout",
     "output_type": "stream",
     "text": [
      "                   all       4621       4645      0.765      0.752      0.829      0.821\n",
      "\n",
      "      Epoch    GPU_mem   box_loss   cls_loss   dfl_loss  Instances       Size\n"
     ]
    },
    {
     "name": "stderr",
     "output_type": "stream",
     "text": [
      "      14/20      3.51G     0.1659       0.83     0.8863         14        640: 100%|██████████| 4770/4770 [1:45:08<00:00,  1.32s/it]      \n",
      "                 Class     Images  Instances      Box(P          R      mAP50  mAP50-95): 100%|██████████| 145/145 [05:55<00:00,  2.45s/it]\n"
     ]
    },
    {
     "name": "stdout",
     "output_type": "stream",
     "text": [
      "                   all       4621       4645      0.775      0.769      0.842      0.835\n",
      "\n",
      "      Epoch    GPU_mem   box_loss   cls_loss   dfl_loss  Instances       Size\n"
     ]
    },
    {
     "name": "stderr",
     "output_type": "stream",
     "text": [
      "      15/20      3.51G     0.1609     0.7454     0.8817         14        640: 100%|██████████| 4770/4770 [22:16<00:00,  3.57it/s]\n",
      "                 Class     Images  Instances      Box(P          R      mAP50  mAP50-95): 100%|██████████| 145/145 [06:16<00:00,  2.60s/it]\n"
     ]
    },
    {
     "name": "stdout",
     "output_type": "stream",
     "text": [
      "                   all       4621       4645       0.79      0.782      0.854      0.847\n",
      "\n",
      "      Epoch    GPU_mem   box_loss   cls_loss   dfl_loss  Instances       Size\n"
     ]
    },
    {
     "name": "stderr",
     "output_type": "stream",
     "text": [
      "      16/20      3.51G     0.1563     0.6649     0.8784         14        640: 100%|██████████| 4770/4770 [22:40<00:00,  3.50it/s]\n",
      "                 Class     Images  Instances      Box(P          R      mAP50  mAP50-95): 100%|██████████| 145/145 [06:00<00:00,  2.49s/it]\n"
     ]
    },
    {
     "name": "stdout",
     "output_type": "stream",
     "text": [
      "                   all       4621       4645      0.794      0.793      0.865      0.857\n",
      "\n",
      "      Epoch    GPU_mem   box_loss   cls_loss   dfl_loss  Instances       Size\n"
     ]
    },
    {
     "name": "stderr",
     "output_type": "stream",
     "text": [
      "      17/20      3.51G     0.1512     0.5952     0.8752         14        640: 100%|██████████| 4770/4770 [22:16<00:00,  3.57it/s]\n",
      "                 Class     Images  Instances      Box(P          R      mAP50  mAP50-95): 100%|██████████| 145/145 [06:00<00:00,  2.49s/it]\n"
     ]
    },
    {
     "name": "stdout",
     "output_type": "stream",
     "text": [
      "                   all       4621       4645      0.799      0.801      0.874      0.866\n",
      "\n",
      "      Epoch    GPU_mem   box_loss   cls_loss   dfl_loss  Instances       Size\n"
     ]
    },
    {
     "name": "stderr",
     "output_type": "stream",
     "text": [
      "      18/20      3.51G     0.1458     0.5258     0.8721         14        640: 100%|██████████| 4770/4770 [22:24<00:00,  3.55it/s]\n",
      "                 Class     Images  Instances      Box(P          R      mAP50  mAP50-95): 100%|██████████| 145/145 [06:10<00:00,  2.56s/it]\n"
     ]
    },
    {
     "name": "stdout",
     "output_type": "stream",
     "text": [
      "                   all       4621       4645      0.831      0.794      0.882      0.874\n",
      "\n",
      "      Epoch    GPU_mem   box_loss   cls_loss   dfl_loss  Instances       Size\n"
     ]
    },
    {
     "name": "stderr",
     "output_type": "stream",
     "text": [
      "      19/20      3.51G     0.1407     0.4647      0.869         14        640: 100%|██████████| 4770/4770 [22:15<00:00,  3.57it/s]\n",
      "                 Class     Images  Instances      Box(P          R      mAP50  mAP50-95): 100%|██████████| 145/145 [04:56<00:00,  2.04s/it]\n"
     ]
    },
    {
     "name": "stdout",
     "output_type": "stream",
     "text": [
      "                   all       4621       4645      0.827      0.816       0.89      0.883\n",
      "\n",
      "      Epoch    GPU_mem   box_loss   cls_loss   dfl_loss  Instances       Size\n"
     ]
    },
    {
     "name": "stderr",
     "output_type": "stream",
     "text": [
      "      20/20      3.51G     0.1372     0.4313     0.8693         16        640:   7%|▋         | 322/4770 [01:31<20:59,  3.53it/s]\n"
     ]
    },
    {
     "ename": "KeyboardInterrupt",
     "evalue": "",
     "output_type": "error",
     "traceback": [
      "\u001b[1;31m---------------------------------------------------------------------------\u001b[0m",
      "\u001b[1;31mKeyboardInterrupt\u001b[0m                         Traceback (most recent call last)",
      "Cell \u001b[1;32mIn[5], line 4\u001b[0m\n\u001b[0;32m      1\u001b[0m model \u001b[38;5;241m=\u001b[39m YOLO(\u001b[38;5;124mr\u001b[39m\u001b[38;5;124m\"\u001b[39m\u001b[38;5;124mD:\u001b[39m\u001b[38;5;124m\\\u001b[39m\u001b[38;5;124mAugmented_Data\u001b[39m\u001b[38;5;124m\\\u001b[39m\u001b[38;5;124mruns\u001b[39m\u001b[38;5;124m\\\u001b[39m\u001b[38;5;124mdetect\u001b[39m\u001b[38;5;124m\\\u001b[39m\u001b[38;5;124mtrain\u001b[39m\u001b[38;5;124m\\\u001b[39m\u001b[38;5;124mweights\u001b[39m\u001b[38;5;124m\\\u001b[39m\u001b[38;5;124mlast.pt\u001b[39m\u001b[38;5;124m\"\u001b[39m)\n\u001b[0;32m      3\u001b[0m \u001b[38;5;66;03m# Resume the model training\u001b[39;00m\n\u001b[1;32m----> 4\u001b[0m results \u001b[38;5;241m=\u001b[39m \u001b[43mmodel\u001b[49m\u001b[38;5;241;43m.\u001b[39;49m\u001b[43mtrain\u001b[49m\u001b[43m(\u001b[49m\u001b[43mdata\u001b[49m\u001b[38;5;241;43m=\u001b[39;49m\u001b[38;5;124;43mr\u001b[39;49m\u001b[38;5;124;43m\"\u001b[39;49m\u001b[38;5;124;43mD:\u001b[39;49m\u001b[38;5;124;43m\\\u001b[39;49m\u001b[38;5;124;43mAugmented_Data\u001b[39;49m\u001b[38;5;124;43m\\\u001b[39;49m\u001b[38;5;124;43mMerged_Data.yaml\u001b[39;49m\u001b[38;5;124;43m\"\u001b[39;49m\u001b[43m,\u001b[49m\u001b[43m \u001b[49m\u001b[43mepochs\u001b[49m\u001b[38;5;241;43m=\u001b[39;49m\u001b[38;5;241;43m20\u001b[39;49m\u001b[43m,\u001b[49m\u001b[43m \u001b[49m\u001b[43mresume\u001b[49m\u001b[38;5;241;43m=\u001b[39;49m\u001b[38;5;28;43;01mTrue\u001b[39;49;00m\u001b[43m)\u001b[49m\n",
      "File \u001b[1;32mc:\\Users\\shubh\\miniconda3\\envs\\proj\\lib\\site-packages\\ultralytics\\engine\\model.py:674\u001b[0m, in \u001b[0;36mModel.train\u001b[1;34m(self, trainer, **kwargs)\u001b[0m\n\u001b[0;32m    671\u001b[0m             \u001b[38;5;28;01mpass\u001b[39;00m\n\u001b[0;32m    673\u001b[0m \u001b[38;5;28mself\u001b[39m\u001b[38;5;241m.\u001b[39mtrainer\u001b[38;5;241m.\u001b[39mhub_session \u001b[38;5;241m=\u001b[39m \u001b[38;5;28mself\u001b[39m\u001b[38;5;241m.\u001b[39msession  \u001b[38;5;66;03m# attach optional HUB session\u001b[39;00m\n\u001b[1;32m--> 674\u001b[0m \u001b[38;5;28;43mself\u001b[39;49m\u001b[38;5;241;43m.\u001b[39;49m\u001b[43mtrainer\u001b[49m\u001b[38;5;241;43m.\u001b[39;49m\u001b[43mtrain\u001b[49m\u001b[43m(\u001b[49m\u001b[43m)\u001b[49m\n\u001b[0;32m    675\u001b[0m \u001b[38;5;66;03m# Update model and cfg after training\u001b[39;00m\n\u001b[0;32m    676\u001b[0m \u001b[38;5;28;01mif\u001b[39;00m RANK \u001b[38;5;129;01min\u001b[39;00m {\u001b[38;5;241m-\u001b[39m\u001b[38;5;241m1\u001b[39m, \u001b[38;5;241m0\u001b[39m}:\n",
      "File \u001b[1;32mc:\\Users\\shubh\\miniconda3\\envs\\proj\\lib\\site-packages\\ultralytics\\engine\\trainer.py:199\u001b[0m, in \u001b[0;36mBaseTrainer.train\u001b[1;34m(self)\u001b[0m\n\u001b[0;32m    196\u001b[0m         ddp_cleanup(\u001b[38;5;28mself\u001b[39m, \u001b[38;5;28mstr\u001b[39m(file))\n\u001b[0;32m    198\u001b[0m \u001b[38;5;28;01melse\u001b[39;00m:\n\u001b[1;32m--> 199\u001b[0m     \u001b[38;5;28;43mself\u001b[39;49m\u001b[38;5;241;43m.\u001b[39;49m\u001b[43m_do_train\u001b[49m\u001b[43m(\u001b[49m\u001b[43mworld_size\u001b[49m\u001b[43m)\u001b[49m\n",
      "File \u001b[1;32mc:\\Users\\shubh\\miniconda3\\envs\\proj\\lib\\site-packages\\ultralytics\\engine\\trainer.py:376\u001b[0m, in \u001b[0;36mBaseTrainer._do_train\u001b[1;34m(self, world_size)\u001b[0m\n\u001b[0;32m    374\u001b[0m \u001b[38;5;28;01mwith\u001b[39;00m torch\u001b[38;5;241m.\u001b[39mcuda\u001b[38;5;241m.\u001b[39mamp\u001b[38;5;241m.\u001b[39mautocast(\u001b[38;5;28mself\u001b[39m\u001b[38;5;241m.\u001b[39mamp):\n\u001b[0;32m    375\u001b[0m     batch \u001b[38;5;241m=\u001b[39m \u001b[38;5;28mself\u001b[39m\u001b[38;5;241m.\u001b[39mpreprocess_batch(batch)\n\u001b[1;32m--> 376\u001b[0m     \u001b[38;5;28mself\u001b[39m\u001b[38;5;241m.\u001b[39mloss, \u001b[38;5;28mself\u001b[39m\u001b[38;5;241m.\u001b[39mloss_items \u001b[38;5;241m=\u001b[39m \u001b[38;5;28;43mself\u001b[39;49m\u001b[38;5;241;43m.\u001b[39;49m\u001b[43mmodel\u001b[49m\u001b[43m(\u001b[49m\u001b[43mbatch\u001b[49m\u001b[43m)\u001b[49m\n\u001b[0;32m    377\u001b[0m     \u001b[38;5;28;01mif\u001b[39;00m RANK \u001b[38;5;241m!=\u001b[39m \u001b[38;5;241m-\u001b[39m\u001b[38;5;241m1\u001b[39m:\n\u001b[0;32m    378\u001b[0m         \u001b[38;5;28mself\u001b[39m\u001b[38;5;241m.\u001b[39mloss \u001b[38;5;241m*\u001b[39m\u001b[38;5;241m=\u001b[39m world_size\n",
      "File \u001b[1;32mc:\\Users\\shubh\\miniconda3\\envs\\proj\\lib\\site-packages\\torch\\nn\\modules\\module.py:1501\u001b[0m, in \u001b[0;36mModule._call_impl\u001b[1;34m(self, *args, **kwargs)\u001b[0m\n\u001b[0;32m   1496\u001b[0m \u001b[38;5;66;03m# If we don't have any hooks, we want to skip the rest of the logic in\u001b[39;00m\n\u001b[0;32m   1497\u001b[0m \u001b[38;5;66;03m# this function, and just call forward.\u001b[39;00m\n\u001b[0;32m   1498\u001b[0m \u001b[38;5;28;01mif\u001b[39;00m \u001b[38;5;129;01mnot\u001b[39;00m (\u001b[38;5;28mself\u001b[39m\u001b[38;5;241m.\u001b[39m_backward_hooks \u001b[38;5;129;01mor\u001b[39;00m \u001b[38;5;28mself\u001b[39m\u001b[38;5;241m.\u001b[39m_backward_pre_hooks \u001b[38;5;129;01mor\u001b[39;00m \u001b[38;5;28mself\u001b[39m\u001b[38;5;241m.\u001b[39m_forward_hooks \u001b[38;5;129;01mor\u001b[39;00m \u001b[38;5;28mself\u001b[39m\u001b[38;5;241m.\u001b[39m_forward_pre_hooks\n\u001b[0;32m   1499\u001b[0m         \u001b[38;5;129;01mor\u001b[39;00m _global_backward_pre_hooks \u001b[38;5;129;01mor\u001b[39;00m _global_backward_hooks\n\u001b[0;32m   1500\u001b[0m         \u001b[38;5;129;01mor\u001b[39;00m _global_forward_hooks \u001b[38;5;129;01mor\u001b[39;00m _global_forward_pre_hooks):\n\u001b[1;32m-> 1501\u001b[0m     \u001b[38;5;28;01mreturn\u001b[39;00m forward_call(\u001b[38;5;241m*\u001b[39margs, \u001b[38;5;241m*\u001b[39m\u001b[38;5;241m*\u001b[39mkwargs)\n\u001b[0;32m   1502\u001b[0m \u001b[38;5;66;03m# Do not call functions when jit is used\u001b[39;00m\n\u001b[0;32m   1503\u001b[0m full_backward_hooks, non_full_backward_hooks \u001b[38;5;241m=\u001b[39m [], []\n",
      "File \u001b[1;32mc:\\Users\\shubh\\miniconda3\\envs\\proj\\lib\\site-packages\\ultralytics\\nn\\tasks.py:89\u001b[0m, in \u001b[0;36mBaseModel.forward\u001b[1;34m(self, x, *args, **kwargs)\u001b[0m\n\u001b[0;32m     79\u001b[0m \u001b[38;5;250m\u001b[39m\u001b[38;5;124;03m\"\"\"\u001b[39;00m\n\u001b[0;32m     80\u001b[0m \u001b[38;5;124;03mForward pass of the model on a single scale. Wrapper for `_forward_once` method.\u001b[39;00m\n\u001b[0;32m     81\u001b[0m \n\u001b[1;32m   (...)\u001b[0m\n\u001b[0;32m     86\u001b[0m \u001b[38;5;124;03m    (torch.Tensor): The output of the network.\u001b[39;00m\n\u001b[0;32m     87\u001b[0m \u001b[38;5;124;03m\"\"\"\u001b[39;00m\n\u001b[0;32m     88\u001b[0m \u001b[38;5;28;01mif\u001b[39;00m \u001b[38;5;28misinstance\u001b[39m(x, \u001b[38;5;28mdict\u001b[39m):  \u001b[38;5;66;03m# for cases of training and validating while training.\u001b[39;00m\n\u001b[1;32m---> 89\u001b[0m     \u001b[38;5;28;01mreturn\u001b[39;00m \u001b[38;5;28mself\u001b[39m\u001b[38;5;241m.\u001b[39mloss(x, \u001b[38;5;241m*\u001b[39margs, \u001b[38;5;241m*\u001b[39m\u001b[38;5;241m*\u001b[39mkwargs)\n\u001b[0;32m     90\u001b[0m \u001b[38;5;28;01mreturn\u001b[39;00m \u001b[38;5;28mself\u001b[39m\u001b[38;5;241m.\u001b[39mpredict(x, \u001b[38;5;241m*\u001b[39margs, \u001b[38;5;241m*\u001b[39m\u001b[38;5;241m*\u001b[39mkwargs)\n",
      "File \u001b[1;32mc:\\Users\\shubh\\miniconda3\\envs\\proj\\lib\\site-packages\\ultralytics\\nn\\tasks.py:268\u001b[0m, in \u001b[0;36mBaseModel.loss\u001b[1;34m(self, batch, preds)\u001b[0m\n\u001b[0;32m    265\u001b[0m     \u001b[38;5;28mself\u001b[39m\u001b[38;5;241m.\u001b[39mcriterion \u001b[38;5;241m=\u001b[39m \u001b[38;5;28mself\u001b[39m\u001b[38;5;241m.\u001b[39minit_criterion()\n\u001b[0;32m    267\u001b[0m preds \u001b[38;5;241m=\u001b[39m \u001b[38;5;28mself\u001b[39m\u001b[38;5;241m.\u001b[39mforward(batch[\u001b[38;5;124m\"\u001b[39m\u001b[38;5;124mimg\u001b[39m\u001b[38;5;124m\"\u001b[39m]) \u001b[38;5;28;01mif\u001b[39;00m preds \u001b[38;5;129;01mis\u001b[39;00m \u001b[38;5;28;01mNone\u001b[39;00m \u001b[38;5;28;01melse\u001b[39;00m preds\n\u001b[1;32m--> 268\u001b[0m \u001b[38;5;28;01mreturn\u001b[39;00m \u001b[38;5;28;43mself\u001b[39;49m\u001b[38;5;241;43m.\u001b[39;49m\u001b[43mcriterion\u001b[49m\u001b[43m(\u001b[49m\u001b[43mpreds\u001b[49m\u001b[43m,\u001b[49m\u001b[43m \u001b[49m\u001b[43mbatch\u001b[49m\u001b[43m)\u001b[49m\n",
      "File \u001b[1;32mc:\\Users\\shubh\\miniconda3\\envs\\proj\\lib\\site-packages\\ultralytics\\utils\\loss.py:210\u001b[0m, in \u001b[0;36mv8DetectionLoss.__call__\u001b[1;34m(self, preds, batch)\u001b[0m\n\u001b[0;32m    208\u001b[0m dtype \u001b[38;5;241m=\u001b[39m pred_scores\u001b[38;5;241m.\u001b[39mdtype\n\u001b[0;32m    209\u001b[0m batch_size \u001b[38;5;241m=\u001b[39m pred_scores\u001b[38;5;241m.\u001b[39mshape[\u001b[38;5;241m0\u001b[39m]\n\u001b[1;32m--> 210\u001b[0m imgsz \u001b[38;5;241m=\u001b[39m \u001b[43mtorch\u001b[49m\u001b[38;5;241;43m.\u001b[39;49m\u001b[43mtensor\u001b[49m\u001b[43m(\u001b[49m\u001b[43mfeats\u001b[49m\u001b[43m[\u001b[49m\u001b[38;5;241;43m0\u001b[39;49m\u001b[43m]\u001b[49m\u001b[38;5;241;43m.\u001b[39;49m\u001b[43mshape\u001b[49m\u001b[43m[\u001b[49m\u001b[38;5;241;43m2\u001b[39;49m\u001b[43m:\u001b[49m\u001b[43m]\u001b[49m\u001b[43m,\u001b[49m\u001b[43m \u001b[49m\u001b[43mdevice\u001b[49m\u001b[38;5;241;43m=\u001b[39;49m\u001b[38;5;28;43mself\u001b[39;49m\u001b[38;5;241;43m.\u001b[39;49m\u001b[43mdevice\u001b[49m\u001b[43m,\u001b[49m\u001b[43m \u001b[49m\u001b[43mdtype\u001b[49m\u001b[38;5;241;43m=\u001b[39;49m\u001b[43mdtype\u001b[49m\u001b[43m)\u001b[49m \u001b[38;5;241m*\u001b[39m \u001b[38;5;28mself\u001b[39m\u001b[38;5;241m.\u001b[39mstride[\u001b[38;5;241m0\u001b[39m]  \u001b[38;5;66;03m# image size (h,w)\u001b[39;00m\n\u001b[0;32m    211\u001b[0m anchor_points, stride_tensor \u001b[38;5;241m=\u001b[39m make_anchors(feats, \u001b[38;5;28mself\u001b[39m\u001b[38;5;241m.\u001b[39mstride, \u001b[38;5;241m0.5\u001b[39m)\n\u001b[0;32m    213\u001b[0m \u001b[38;5;66;03m# Targets\u001b[39;00m\n",
      "\u001b[1;31mKeyboardInterrupt\u001b[0m: "
     ]
    }
   ],
   "source": [
    "model = YOLO(r\"D:\\Augmented_Data\\runs\\detect\\train\\weights\\last.pt\")\n",
    "\n",
    "# Resume the model training\n",
    "results = model.train(data=r\"D:\\Augmented_Data\\Merged_Data.yaml\", epochs=20, resume=True)"
   ]
  },
  {
   "cell_type": "code",
   "execution_count": 7,
   "id": "f61696d5",
   "metadata": {},
   "outputs": [],
   "source": [
    "model = YOLO(r\"D:\\Augmented_Data\\runs\\detect\\train\\weights\\last.pt\")"
   ]
  },
  {
   "cell_type": "code",
   "execution_count": 8,
   "id": "bc371ef8-9674-42a0-b048-be81da814cd3",
   "metadata": {},
   "outputs": [
    {
     "name": "stdout",
     "output_type": "stream",
     "text": [
      "Ultralytics YOLOv8.2.35  Python-3.9.18 torch-2.0.1+cu117 CUDA:0 (NVIDIA GeForce RTX 3050 Laptop GPU, 4096MiB)\n",
      "Model summary (fused): 168 layers, 3390113 parameters, 0 gradients, 9.9 GFLOPs\n"
     ]
    },
    {
     "name": "stderr",
     "output_type": "stream",
     "text": [
      "\u001b[34m\u001b[1mval: \u001b[0mScanning D:\\Augmented_Data\\valid\\labels.cache... 4621 images, 7 backgrounds, 0 corrupt: 100%|██████████| 4621/4621 [00:00<?, ?it/s]\n",
      "                 Class     Images  Instances      Box(P          R      mAP50  mAP50-95): 100%|██████████| 289/289 [00:48<00:00,  5.96it/s]\n"
     ]
    },
    {
     "name": "stdout",
     "output_type": "stream",
     "text": [
      "                   all       4621       4645      0.827      0.816       0.89      0.883\n",
      "              1-Series         12         12      0.754      0.333      0.516      0.516\n",
      "              2-Series         12         12      0.934       0.75      0.822      0.822\n",
      "              3-Series         14         14      0.967      0.286      0.605      0.602\n",
      "              5-Series         18         18      0.572        0.5      0.604      0.591\n",
      "              6-Series         16         16        0.7      0.584      0.746      0.746\n",
      "              7-Series         16         16      0.724      0.688      0.763      0.761\n",
      "                   911          9          9      0.655      0.444      0.467      0.467\n",
      "                    A3         16         16      0.822      0.578      0.852       0.84\n",
      "                    A4         15         15     0.0779      0.026      0.316      0.304\n",
      "                    A5         12         12      0.695        0.5       0.74       0.74\n",
      "                    A6         18         19      0.719      0.673      0.675      0.675\n",
      "                    A7         14         15      0.751      0.267      0.535      0.535\n",
      "                    A8         17         17      0.597      0.882      0.816      0.799\n",
      "                Accord         33         36      0.803       0.75      0.798      0.786\n",
      "               A-Class         19         19       0.82      0.895      0.957      0.938\n",
      "     A-Class-Limousine         20         20      0.877       0.95      0.983      0.962\n",
      "               Alcazar         11         11          1      0.702      0.894      0.894\n",
      "                  Alto         75         75      0.826      0.893       0.95       0.95\n",
      "                Altroz          9          9      0.998          1      0.995      0.995\n",
      "             AlturasG4         16         16          1      0.604      0.834      0.834\n",
      "                 Amaze         38         38      0.902      0.868      0.959      0.956\n",
      "                  Ameo         12         12      0.792      0.635      0.879      0.862\n",
      "                  Figo         16         16      0.833      0.938      0.921      0.894\n",
      "                A-Star         20         20      0.981       0.95      0.987      0.987\n",
      "                 Astor         11         11      0.567      0.909      0.825      0.825\n",
      "                Atto-3         11         11      0.895      0.777      0.935      0.935\n",
      "                  Aura         18         18      0.895          1      0.978      0.978\n",
      "             Avventura         13         13      0.648      0.846      0.847      0.834\n",
      "                Baleno         55         55       0.86      0.982      0.973      0.966\n",
      "               B-Class         18         19      0.827      0.737      0.844      0.836\n",
      "                  Beat         21         21      0.958          1      0.995      0.995\n",
      "                Beetle         10         10      0.958        0.9      0.972      0.972\n",
      "                Bolero         10         10      0.915          1      0.995      0.981\n",
      "            Bolero-Neo          3          3      0.678          1       0.83       0.83\n",
      "                  Bolt          9          9      0.946      0.556       0.84       0.84\n",
      "                Brezza         63         63      0.854          1      0.979      0.979\n",
      "                  Brio         25         25      0.878       0.92       0.98       0.98\n",
      "                    C3          9          9      0.667      0.778      0.864      0.864\n",
      "           C3-Aircross         10         10          1      0.761      0.898      0.898\n",
      "                    C5          8          8      0.969          1      0.995      0.995\n",
      "                 Camry          7          7          1      0.483      0.826      0.817\n",
      "               Captiva         17         17      0.866      0.941      0.984      0.966\n",
      "                Captur         11         11      0.827      0.545      0.866      0.819\n",
      "                Carens         16         16      0.831      0.938      0.973      0.965\n",
      "              Carnival         15         15      0.931      0.897      0.968      0.949\n",
      "               Cayenne         16         16      0.886       0.75      0.832       0.83\n",
      "               C-Class         16         16      0.633      0.312      0.645      0.645\n",
      "                 Cedia         18         18      0.854      0.652       0.81       0.78\n",
      "               Celerio         47         47      0.957      0.946      0.984      0.984\n",
      "                  Ciaz         24         24      0.975          1      0.995      0.995\n",
      "                  City         32         32      0.723      0.938      0.934      0.932\n",
      "                 Civic         42         42      0.962      0.833      0.953      0.946\n",
      "             CLA-Class         20         20      0.794        0.8      0.869      0.836\n",
      "               Clubman         12         12      0.905      0.796      0.965      0.965\n",
      "                 Comet          9          9      0.737          1      0.984      0.984\n",
      "               Compass         23         23      0.926      0.957      0.958      0.958\n",
      "           Convertible         21         21      0.738      0.857      0.843      0.836\n",
      "                Cooper         21         21       0.58      0.592      0.678      0.656\n",
      "          CorollaAltis         36         36      0.905      0.861      0.922      0.922\n",
      "            Countryman         24         24      0.917      0.875      0.963      0.958\n",
      "                 Creta         50         50      0.943       0.78      0.899      0.891\n",
      "               Cruiser         15         15      0.761        0.8      0.857      0.821\n",
      "                 Cruze         27         27      0.959      0.889      0.964      0.958\n",
      "                  CR-V         34         34      0.893      0.971      0.965      0.955\n",
      "              Defender         13         13      0.846      0.769       0.83      0.807\n",
      "             Discovery         16         16          1      0.972      0.995      0.962\n",
      "                 D-Max         12         12          1       0.69      0.929      0.929\n",
      "                Duster         23         23      0.878          1      0.984      0.971\n",
      "                 Dzire         39         39      0.802      0.974      0.989      0.985\n",
      "                   e2o          8          8      0.661       0.75      0.824      0.824\n",
      "                    e6          8          8      0.992          1      0.995      0.983\n",
      "               E-Class         13         13      0.629      0.846      0.821      0.821\n",
      "              Ecosport         17         17      0.954          1      0.995      0.987\n",
      "                  Eeco         20         20      0.848          1      0.995      0.995\n",
      "               Elantra         25         25      0.728       0.84      0.892      0.887\n",
      "               Elevate          8          8      0.864       0.75      0.849      0.839\n",
      "             Elite-i20         12         12      0.857      0.667      0.763      0.763\n",
      "             Endeavour         28         28      0.932      0.893      0.955      0.951\n",
      "                 Enjoy         21         22      0.922      0.818      0.862      0.847\n",
      "                 Enyaq         10         10      0.907          1      0.986      0.986\n",
      "                   Eon         14         14      0.768          1      0.983      0.958\n",
      "                Ertiga         88         88      0.945      0.979       0.99      0.986\n",
      "                    ES         16         16      0.876      0.886      0.951      0.951\n",
      "                Estilo         13         13          1      0.829       0.99       0.99\n",
      "                 Etios         16         16      0.806      0.938      0.947      0.943\n",
      "             EtiosLiva         13         13      0.736       0.86      0.895      0.895\n",
      "                Evoque         16         16      0.739       0.75      0.885      0.858\n",
      "                 Exter         10         10       0.92        0.5      0.805      0.791\n",
      "                 Fabia         10         10       0.89      0.807      0.968      0.968\n",
      "                Fiesta         16         16      0.979      0.938      0.969      0.969\n",
      "        Fiesta-Classic         17         17      0.808      0.882      0.948      0.948\n",
      "           Figo-Aspire         17         17      0.802      0.717       0.89       0.89\n",
      "               Fluence         13         13      0.906      0.741      0.887      0.887\n",
      "              Fortuner         42         42      0.857          1      0.995      0.992\n",
      "     Fortuner-Legender         12         12          1      0.745      0.976      0.967\n",
      "                F-pace         22         22      0.796      0.727      0.875      0.872\n",
      "            Freelander         15         15      0.826          1      0.951      0.946\n",
      "             Freestyle         11         11      0.744          1      0.973      0.973\n",
      "                 Fronx          7          7      0.687      0.714      0.878      0.878\n",
      "                F-type          7          7          1      0.524      0.749      0.749\n",
      "               G-Class         10         10      0.884          1      0.995      0.969\n",
      "                 Gipsy          3          3          1          0      0.753      0.734\n",
      "             GLA-Class         18         18      0.853       0.97      0.982      0.977\n",
      "                Glanza         15         15      0.806      0.667      0.863      0.863\n",
      "             GLC-Class         20         20      0.831          1      0.982      0.982\n",
      "              GL-Class         20         20      0.885        0.9      0.949      0.929\n",
      "             GLE-Class         11         11      0.713      0.909      0.899      0.899\n",
      "             GLE-Coupe         15         15      0.841      0.707      0.827      0.823\n",
      "               Gloster         13         13          1      0.919      0.928       0.92\n",
      "             GLS-Class          6          6      0.479      0.833      0.761      0.761\n",
      "                   Go_         10         10      0.669       0.81      0.789      0.775\n",
      "                   Go-         12         12      0.915        0.9      0.954      0.941\n",
      "             Grand-i10         23         23      0.795       0.87      0.903      0.903\n",
      "           GrandVitara         16         16      0.914      0.938      0.988      0.988\n",
      "                Gurkha         18         18      0.837      0.889      0.923      0.915\n",
      "               Harrier         18         18      0.743      0.644      0.812      0.798\n",
      "                Hector         19         19       0.97          1      0.995      0.989\n",
      "                  Hexa         11         11      0.936      0.909      0.963      0.947\n",
      "                   i10         10         10      0.729        0.9      0.916      0.916\n",
      "                   i20         20         20      0.788      0.559      0.826      0.826\n",
      "            i20-Active         11         11      0.956          1      0.995      0.995\n",
      "            i20-N-Line         16         16      0.929      0.823      0.948      0.948\n",
      "                 Ignis         43         43      0.954      0.953      0.993      0.993\n",
      "                  Ikon          9          9      0.837      0.574      0.776      0.763\n",
      "                Indica         16         16      0.674      0.776      0.783      0.783\n",
      "                Indigo         18         18      0.641      0.667      0.723      0.723\n",
      "                Innova         32         32      0.855      0.969      0.984      0.975\n",
      "         Innova-Crysta         27         27      0.942          1      0.995      0.995\n",
      "        Innova-Hycross         10         10          1      0.577      0.948       0.91\n",
      "               Invicto          5          5      0.748        0.8       0.88       0.88\n",
      "               Ioniq-5         14         14      0.877          1      0.995      0.995\n",
      "                  Jazz         36         36      0.967      0.944      0.971      0.966\n",
      "                 Jetta         19         19      0.848      0.579      0.862      0.839\n",
      "                 Jimny          4          4      0.857       0.75      0.783      0.783\n",
      "                 Karoq         12         12      0.794       0.75      0.906      0.906\n",
      "                 Kiger         11         11      0.901      0.831      0.968      0.968\n",
      "                Kodiaq         12         12      0.701      0.917      0.917      0.917\n",
      "                Koleos         13         13        0.9          1      0.979      0.965\n",
      "                  Kona          8          8      0.877      0.893      0.898      0.898\n",
      "                Kushaq         12         12      0.874          1      0.995      0.995\n",
      "                KUV100         11         11          1       0.57      0.793      0.793\n",
      "                  Kwid         16         16      0.589          1      0.973      0.973\n",
      "                Lancer         10         10      0.766        0.9      0.928      0.928\n",
      "           LandCruiser          1          1      0.626          1      0.995      0.895\n",
      "                 Laura         13         13      0.778       0.54      0.739      0.739\n",
      "                 Linea         19         19      0.919          1      0.995      0.995\n",
      "                 Lodgy          9          9      0.976      0.778      0.925        0.9\n",
      "                    LX         12         12      0.895      0.667      0.848      0.843\n",
      "                 Macan         20         20      0.842        0.9      0.953      0.953\n",
      "               Magnite          6          6          1      0.329      0.594      0.594\n",
      "               Marazzo         11         11      0.892      0.909      0.976      0.976\n",
      "               M-Class         13         13      0.923      0.926      0.935      0.935\n",
      "              Meridian         16         16      0.951      0.938      0.962       0.96\n",
      "                 Micra         14         14      0.869      0.953      0.981      0.981\n",
      "               Mobilio         14         14      0.915      0.929      0.976      0.957\n",
      "               Montero          9          9      0.736      0.444      0.688      0.688\n",
      "                   MU7         12         12          1      0.782      0.929      0.902\n",
      "                   MUX         14         14      0.863      0.929      0.956      0.956\n",
      "                  Nano         20         20      0.817          1      0.981      0.981\n",
      "                 Nexon         70         70      0.922      0.943      0.988      0.977\n",
      "             NuvoSport          7          7      0.907          1      0.995      0.947\n",
      "                    NX         12         12      0.685      0.833      0.897       0.88\n",
      "               Octavia         59         59       0.77       0.78      0.871      0.871\n",
      "                  Omni          1          1      0.659          1      0.995      0.895\n",
      "             Outlander         12         12      0.917      0.924      0.983      0.983\n",
      "                Pajero         21         21       0.75      0.857      0.842      0.804\n",
      "          Pajero-Sport         12         12      0.709      0.917      0.874       0.87\n",
      "              Panamera         13         13      0.819          1      0.968      0.968\n",
      "                Passat         28         28       0.82      0.977       0.92      0.892\n",
      "               Phateon          6          6      0.805      0.667      0.913      0.913\n",
      "                  Polo         13         13      0.629      0.462      0.634      0.617\n",
      "              Polo_GTi          9          9      0.854      0.652      0.834      0.834\n",
      "                 Pulse         15         15      0.837      0.867       0.94      0.933\n",
      "                 Punch         15         15      0.833      0.663      0.863      0.846\n",
      "                 Punto         20         20      0.967       0.95      0.978      0.973\n",
      "                    Q2         12         12       0.95          1      0.995      0.995\n",
      "                    Q3         16         16      0.762      0.875      0.931      0.925\n",
      "                    Q5         16         16      0.601      0.438      0.566      0.566\n",
      "                    Q7         14         14      0.848      0.857      0.903      0.903\n",
      "                Qualis          4          4       0.86       0.75      0.945      0.945\n",
      "                Quanto          8          8      0.393        0.5      0.548      0.541\n",
      "           Range-Rover         28         28      0.907          1       0.99       0.98\n",
      "     Range-Rover-Sport         24         24      0.913      0.872      0.941      0.934\n",
      "                 Rapid         18         18      0.806      0.694      0.835      0.825\n",
      "                RediGo         15         15          1       0.86      0.978      0.969\n",
      "                Rexton         15         15      0.802      0.933      0.946      0.946\n",
      "                  Ritz         22         22       0.86      0.955      0.968      0.965\n",
      "                    RX         18         18      0.828      0.889      0.963       0.94\n",
      "                   S60         22         22      0.922      0.535      0.775      0.771\n",
      "                   S90         15         15      0.749      0.867      0.868      0.868\n",
      "                Safari         17         17      0.632      0.765      0.761      0.749\n",
      "                  Sail         11         11      0.558      0.576      0.698      0.698\n",
      "         SailHatchback         10         10      0.581        0.3      0.538      0.538\n",
      "              Santa-Fe          9          9      0.491      0.667      0.664      0.664\n",
      "                Santro         23         23      0.839      0.826      0.927      0.927\n",
      "                 Scala          9          9       0.86      0.556       0.84       0.84\n",
      "               S-Class         20         20      0.894      0.842       0.94      0.933\n",
      "               Scorpio         23         23      0.953      0.891      0.946       0.94\n",
      "             Scorpio-n          9          9      0.802      0.904      0.872      0.872\n",
      "                Scross         31         31      0.965      0.879      0.979      0.966\n",
      "                  Seal          8          8       0.91      0.875      0.971      0.971\n",
      "                Seltos         30         30      0.909      0.967      0.974      0.974\n",
      "                Slavia         10         10      0.724      0.789      0.798      0.785\n",
      "                 Sonet         18         18      0.919      0.944      0.959      0.959\n",
      "                 Spark         14         14      0.881          1      0.995      0.987\n",
      "              S-presso         13         13      0.925      0.946       0.99       0.99\n",
      "                  Sumo          7          7      0.744      0.857      0.712      0.699\n",
      "           Sumo-Grande          7          7      0.842      0.571      0.883      0.883\n",
      "                 Sunny         11         11      0.783          1      0.976      0.976\n",
      "                Superb         36         36      0.723       0.75      0.847      0.847\n",
      "                 Swift         28         28      0.853      0.929      0.976      0.976\n",
      "                   SX4         16         16      0.884      0.955      0.985      0.985\n",
      "                Taigun         13         13      0.781          1      0.995      0.995\n",
      "       Taigun_Allspace         10         10      0.687        0.9      0.962      0.962\n",
      "                Tavera         13         13      0.678      0.846      0.903      0.888\n",
      "               Terrano         15         15      0.932      0.917      0.983      0.973\n",
      "                  Thar         11         11      0.905      0.867      0.972      0.949\n",
      "                 Tiago         42         42      0.823      0.887      0.918      0.913\n",
      "                 Tigor         21         21      0.766      0.778      0.851      0.849\n",
      "               Touareg         15         15          1      0.973      0.995      0.988\n",
      "                Triber         15         15      0.868          1      0.987      0.987\n",
      "                 T-Roc         11         11      0.779          1       0.98       0.98\n",
      "                    TT         12         12      0.881      0.622       0.84      0.822\n",
      "                Tucson         21         21      0.815      0.841       0.88       0.87\n",
      "                TUV300         11         11      0.847      0.909      0.981      0.971\n",
      "           Urban-Cross          9          9       0.66      0.433      0.607      0.607\n",
      "          UrbanCruiser         15         15      0.826      0.949       0.93       0.93\n",
      "                   V40         16         16      0.838      0.812      0.908      0.908\n",
      "                 Velar         12         12      0.923      0.833      0.925      0.925\n",
      "              Vellfire          2          2          1      0.964      0.995      0.945\n",
      "                 Vento         29         29      0.745      0.828      0.878      0.875\n",
      "                 Venue         23         23      0.953      0.888       0.99      0.983\n",
      "          Verito_Logan          8          8      0.665      0.498      0.714      0.714\n",
      "                 Verna         49         49      0.866      0.939      0.962      0.961\n",
      "                Virtus         11         11      0.801      0.909      0.936      0.921\n",
      "                WagonR         65         65      0.923      0.985      0.988      0.986\n",
      "              Wrangler         11         11      0.669          1      0.981      0.981\n",
      "                  WR-V         12         12      0.437       0.75      0.773      0.773\n",
      "                    X1         12         12      0.713      0.827      0.748      0.748\n",
      "                    X3         21         21      0.709      0.857      0.846      0.846\n",
      "                    X4         12         12      0.636       0.75      0.796      0.796\n",
      "                    X5         18         18      0.767      0.722      0.839      0.804\n",
      "                    X6         16         16      0.891      0.509      0.742      0.742\n",
      "                    X7         12         12      0.821      0.833      0.908      0.894\n",
      "                  XC40         16         16      0.966          1      0.995      0.989\n",
      "                  XC60         24         24      0.799      0.828       0.94      0.931\n",
      "                  XC90         22         22      0.834      0.955      0.986      0.974\n",
      "                 Xcent         20         20      0.678      0.947      0.868      0.868\n",
      "                    XE         21         21      0.754      0.875      0.878      0.878\n",
      "                    XF         22         22      0.802      0.735      0.886      0.886\n",
      "                    XJ         22         22      0.858      0.864      0.918      0.912\n",
      "                   XL6         29         29      0.948          1      0.995      0.966\n",
      "                XUV300         11         11      0.793      0.636      0.833      0.823\n",
      "                XUV400          7          7      0.379      0.286      0.425      0.414\n",
      "                XUV500         41         41      0.927          1      0.991      0.991\n",
      "                XUV700         12         12      0.876      0.917      0.948      0.948\n",
      "                  Xylo         15         15      0.683        0.8      0.758      0.749\n",
      "                 Yaris         11         11      0.733      0.999      0.881      0.881\n",
      "                  Yeti         11         11          1      0.807       0.94      0.929\n",
      "                    Z4         14         14      0.849      0.857      0.859      0.851\n",
      "                  Zest          9          9       0.78      0.791      0.908      0.883\n",
      "                    ZS         14         14       0.83      0.929      0.959      0.959\n",
      "                  BR-V         25         25      0.801       0.76      0.892      0.892\n",
      "Speed: 0.4ms preprocess, 6.0ms inference, 0.0ms loss, 0.9ms postprocess per image\n",
      "Results saved to \u001b[1mruns\\detect\\val2\u001b[0m\n"
     ]
    }
   ],
   "source": [
    "# Evaluate the model's performance on the validation set\n",
    "results = model.val()"
   ]
  },
  {
   "cell_type": "code",
   "execution_count": null,
   "id": "c57a0996-24a7-4238-8aa6-24345e4e87f6",
   "metadata": {},
   "outputs": [],
   "source": [
    "# Export the model to ONNX format\n",
    "success = model.export(format=\"onnx\")"
   ]
  }
 ],
 "metadata": {
  "kernelspec": {
   "display_name": "proj",
   "language": "python",
   "name": "python3"
  },
  "language_info": {
   "codemirror_mode": {
    "name": "ipython",
    "version": 3
   },
   "file_extension": ".py",
   "mimetype": "text/x-python",
   "name": "python",
   "nbconvert_exporter": "python",
   "pygments_lexer": "ipython3",
   "version": "3.9.18"
  }
 },
 "nbformat": 4,
 "nbformat_minor": 5
}
